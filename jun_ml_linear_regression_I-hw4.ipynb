{
 "cells": [
  {
   "cell_type": "markdown",
   "metadata": {
    "colab_type": "text",
    "id": "9zmQCpvzzeTK"
   },
   "source": [
    "### Домашняя работа урок 4\n",
    "\n",
    "Даны точки $x$ и значения в этих точках $y$. Нормализуйте $y$ с помощью *z-score* и постройте график зависимости нормализованных значений от $x$. Для графика используйте `.scatter(x,y_tansformed`"
   ]
  },
  {
   "cell_type": "code",
   "execution_count": null,
   "metadata": {},
   "outputs": [],
   "source": []
  },
  {
   "cell_type": "code",
   "execution_count": 21,
   "metadata": {
    "colab": {},
    "colab_type": "code",
    "id": "O8W9tZnFzeTL",
    "outputId": "cb5296ad-1cb3-4925-961c-149132c1bdf3"
   },
   "outputs": [
    {
     "data": {
      "text/plain": [
       "array([[-1.2465616 ],\n",
       "       [-0.57274455],\n",
       "       [-0.23583598],\n",
       "       [-0.9096531 ],\n",
       "       [ 1.7856153 ],\n",
       "       [ 0.10107257],\n",
       "       [ 0.10107257],\n",
       "       [-0.9096531 ],\n",
       "       [ 0.10107257],\n",
       "       [ 1.7856153 ]], dtype=float32)"
      ]
     },
     "execution_count": 21,
     "metadata": {},
     "output_type": "execute_result"
    }
   ],
   "source": [
    "import numpy as np\n",
    "from sklearn.preprocessing import StandardScaler\n",
    "from matplotlib import pyplot as plt\n",
    "\n",
    "x = np.linspace(1,10,num=10)\n",
    "y = np.array(\n",
    "    [1.0,  3.0,  4.0,  2.0, 10.0,  5.0,  5.0,  2.0,  5.0, 10.0],\n",
    "    dtype=np.float32\n",
    ")\n",
    "\n",
    "y_norm=StandardScaler().fit_transform(y.reshape(-1, 1))"
   ]
  },
  {
   "cell_type": "code",
   "execution_count": 27,
   "metadata": {},
   "outputs": [
    {
     "data": {
      "text/plain": [
       "<matplotlib.collections.PathCollection at 0xcdd4d08>"
      ]
     },
     "execution_count": 27,
     "metadata": {},
     "output_type": "execute_result"
    },
    {
     "data": {
      "image/png": "[encoded data removed]",
      "text/plain": [
       "<Figure size 432x288 with 1 Axes>"
      ]
     },
     "metadata": {
      "needs_background": "light"
     },
     "output_type": "display_data"
    }
   ],
   "source": [
    "%matplotlib inline\n",
    "plt.scatter(x, y_norm)"
   ]
  },
  {
   "cell_type": "code",
   "execution_count": null,
   "metadata": {},
   "outputs": [],
   "source": []
  },
  {
   "cell_type": "code",
   "execution_count": null,
   "metadata": {},
   "outputs": [],
   "source": []
  }
 ],
 "metadata": {
  "colab": {
   "name": "jun_ml_linear_regression_I-hw4.ipynb",
   "provenance": [],
   "version": "0.3.2"
  },
  "kernelspec": {
   "display_name": "Python 3",
   "language": "python",
   "name": "python3"
  },
  "language_info": {
   "codemirror_mode": {
    "name": "ipython",
    "version": 3
   },
   "file_extension": ".py",
   "mimetype": "text/x-python",
   "name": "python",
   "nbconvert_exporter": "python",
   "pygments_lexer": "ipython3",
   "version": "3.7.4"
  }
 },
 "nbformat": 4,
 "nbformat_minor": 1
}
